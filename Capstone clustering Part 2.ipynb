{
  "cells": [
    {
      "metadata": {},
      "cell_type": "markdown",
      "source": "# Capstone Project Part 2"
    },
    {
      "metadata": {},
      "cell_type": "markdown",
      "source": "### Installing Repositories"
    },
    {
      "metadata": {
        "trusted": true
      },
      "cell_type": "code",
      "source": "!pip install beautifulsoup4\n!pip install lxml\nfrom bs4 import BeautifulSoup # use for scaping web data\nfrom IPython.display import display_html #Display the HTML representation of an object.\nimport requests #import requests method\nimport pandas as pd \nimport numpy as np",
      "execution_count": 37,
      "outputs": [
        {
          "output_type": "stream",
          "text": "Requirement already satisfied: beautifulsoup4 in /home/nbuser/anaconda3_501/lib/python3.6/site-packages (4.6.3)\nRequirement already satisfied: lxml in /home/nbuser/anaconda3_501/lib/python3.6/site-packages (4.2.5)\n",
          "name": "stdout"
        }
      ]
    },
    {
      "metadata": {},
      "cell_type": "markdown",
      "source": "### Extracting Data from Web"
    },
    {
      "metadata": {
        "trusted": true
      },
      "cell_type": "code",
      "source": "source = requests.get('https://en.wikipedia.org/wiki/List_of_postal_codes_of_Canada:_M').text\nsoup = BeautifulSoup(source,'lxml')\nprint ('done')",
      "execution_count": 38,
      "outputs": [
        {
          "output_type": "stream",
          "text": "done\n",
          "name": "stdout"
        }
      ]
    },
    {
      "metadata": {
        "trusted": true
      },
      "cell_type": "code",
      "source": "\ntable = soup.find('table')\n\nPostcode      = []\nBorough       = []\nNeighbourhood = []\n\n# print(table)\n\n# extracting a clean form of the table\nfor tr_cell in table.find_all('tr'):\n    \n    counter = 1\n    Postcode_var      = -1\n    Borough_var       = -1\n    Neighbourhood_var = -1\n    \n    for td_cell in tr_cell.find_all('td'):\n        if counter == 1: \n            Postcode_var = td_cell.text\n        if counter == 2: \n            Borough_var = td_cell.text\n            tag_a_Borough = td_cell.find('a')\n            \n        if counter == 3: \n            Neighbourhood_var = str(td_cell.text).strip()\n            tag_a_Neighbourhood = td_cell.find('a')\n            \n        counter +=1\n        \n    if (Postcode_var == 'Not assigned' or Borough_var == 'Not assigned' or Neighbourhood_var == 'Not assigned'): \n        continue\n    try:\n        if ((tag_a_Borough is None) or (tag_a_Neighbourhood is None)):\n            continue\n    except:\n        pass\n    if(Postcode_var == -1 or Borough_var == -1 or Neighbourhood_var == -1):\n        continue\n        \n    Postcode.append(Postcode_var)\n    Borough.append(Borough_var)\n    Neighbourhood.append(Neighbourhood_var)\nunique_p = set(Postcode)\nprint('num of unique Postal codes:', len(unique_p))\nPostcode_u      = []\nBorough_u       = []\nNeighbourhood_u = []\n\n\nfor postcode_unique_element in unique_p:\n    p_var = ''; b_var = ''; n_var = ''; \n    for postcode_idx, postcode_element in enumerate(Postcode):\n        if postcode_unique_element == postcode_element:\n            p_var = postcode_element;\n            b_var = Borough[postcode_idx]\n            if n_var == '': \n                n_var = Neighbourhood[postcode_idx]\n            else:\n                n_var = n_var + ', ' + Neighbourhood[postcode_idx]\n    Postcode_u.append(p_var)\n    Borough_u.append(b_var)\n    Neighbourhood_u.append(n_var)",
      "execution_count": 39,
      "outputs": [
        {
          "output_type": "stream",
          "text": "num of unique Postal codes: 77\n",
          "name": "stdout"
        }
      ]
    },
    {
      "metadata": {
        "trusted": true
      },
      "cell_type": "code",
      "source": "",
      "execution_count": null,
      "outputs": []
    },
    {
      "metadata": {
        "trusted": true
      },
      "cell_type": "code",
      "source": "toronto_dict = {'Postcode':Postcode_u, 'Borough':Borough_u, 'Neighbourhood':Neighbourhood_u}\ndf_toronto = pd.DataFrame.from_dict(toronto_dict)\ndf_toronto.to_csv('toronto_part1.csv')\ncord_df= pd.read_csv('http://cocl.us/Geospatial_data')\ncord_df.head()",
      "execution_count": 36,
      "outputs": [
        {
          "output_type": "execute_result",
          "execution_count": 36,
          "data": {
            "text/html": "<div>\n<style scoped>\n    .dataframe tbody tr th:only-of-type {\n        vertical-align: middle;\n    }\n\n    .dataframe tbody tr th {\n        vertical-align: top;\n    }\n\n    .dataframe thead th {\n        text-align: right;\n    }\n</style>\n<table border=\"1\" class=\"dataframe\">\n  <thead>\n    <tr style=\"text-align: right;\">\n      <th></th>\n      <th>Postal Code</th>\n      <th>Latitude</th>\n      <th>Longitude</th>\n    </tr>\n  </thead>\n  <tbody>\n    <tr>\n      <th>0</th>\n      <td>M1B</td>\n      <td>43.806686</td>\n      <td>-79.194353</td>\n    </tr>\n    <tr>\n      <th>1</th>\n      <td>M1C</td>\n      <td>43.784535</td>\n      <td>-79.160497</td>\n    </tr>\n    <tr>\n      <th>2</th>\n      <td>M1E</td>\n      <td>43.763573</td>\n      <td>-79.188711</td>\n    </tr>\n    <tr>\n      <th>3</th>\n      <td>M1G</td>\n      <td>43.770992</td>\n      <td>-79.216917</td>\n    </tr>\n    <tr>\n      <th>4</th>\n      <td>M1H</td>\n      <td>43.773136</td>\n      <td>-79.239476</td>\n    </tr>\n  </tbody>\n</table>\n</div>",
            "text/plain": "  Postal Code   Latitude  Longitude\n0         M1B  43.806686 -79.194353\n1         M1C  43.784535 -79.160497\n2         M1E  43.763573 -79.188711\n3         M1G  43.770992 -79.216917\n4         M1H  43.773136 -79.239476"
          },
          "metadata": {}
        }
      ]
    },
    {
      "metadata": {
        "trusted": true
      },
      "cell_type": "code",
      "source": "df_toronto[['Latitude','Longitude']]= cord_df[['Latitude','Longitude']]\ndf5 = df_toronto\ndf5",
      "execution_count": 35,
      "outputs": [
        {
          "output_type": "execute_result",
          "execution_count": 35,
          "data": {
            "text/html": "<div>\n<style scoped>\n    .dataframe tbody tr th:only-of-type {\n        vertical-align: middle;\n    }\n\n    .dataframe tbody tr th {\n        vertical-align: top;\n    }\n\n    .dataframe thead th {\n        text-align: right;\n    }\n</style>\n<table border=\"1\" class=\"dataframe\">\n  <thead>\n    <tr style=\"text-align: right;\">\n      <th></th>\n      <th>Postcode</th>\n      <th>Borough</th>\n      <th>Neighbourhood</th>\n      <th>Latitude</th>\n      <th>Longitude</th>\n    </tr>\n  </thead>\n  <tbody>\n    <tr>\n      <th>0</th>\n      <td>M6P</td>\n      <td>West Toronto</td>\n      <td>High Park</td>\n      <td>43.806686</td>\n      <td>-79.194353</td>\n    </tr>\n    <tr>\n      <th>1</th>\n      <td>M2K</td>\n      <td>North York</td>\n      <td>Bayview Village</td>\n      <td>43.784535</td>\n      <td>-79.160497</td>\n    </tr>\n    <tr>\n      <th>2</th>\n      <td>M4X</td>\n      <td>Downtown Toronto</td>\n      <td>Cabbagetown, St. James Town</td>\n      <td>43.763573</td>\n      <td>-79.188711</td>\n    </tr>\n    <tr>\n      <th>3</th>\n      <td>M8Y</td>\n      <td>Etobicoke</td>\n      <td>Humber Bay, Mimico NE, Old Mill South, The Que...</td>\n      <td>43.770992</td>\n      <td>-79.216917</td>\n    </tr>\n    <tr>\n      <th>4</th>\n      <td>M1B</td>\n      <td>Scarborough</td>\n      <td>Rouge, Malvern</td>\n      <td>43.773136</td>\n      <td>-79.239476</td>\n    </tr>\n    <tr>\n      <th>5</th>\n      <td>M5A</td>\n      <td>Downtown Toronto</td>\n      <td>Harbourfront, Regent Park</td>\n      <td>43.744734</td>\n      <td>-79.239476</td>\n    </tr>\n    <tr>\n      <th>6</th>\n      <td>M9C</td>\n      <td>Etobicoke</td>\n      <td>Markland Wood</td>\n      <td>43.727929</td>\n      <td>-79.262029</td>\n    </tr>\n    <tr>\n      <th>7</th>\n      <td>M3K</td>\n      <td>North York</td>\n      <td>CFB Toronto</td>\n      <td>43.711112</td>\n      <td>-79.284577</td>\n    </tr>\n    <tr>\n      <th>8</th>\n      <td>M9B</td>\n      <td>Etobicoke</td>\n      <td>Islington, Princess Gardens, West Deane Park</td>\n      <td>43.716316</td>\n      <td>-79.239476</td>\n    </tr>\n    <tr>\n      <th>9</th>\n      <td>M5E</td>\n      <td>Downtown Toronto</td>\n      <td>Berczy Park</td>\n      <td>43.692657</td>\n      <td>-79.264848</td>\n    </tr>\n    <tr>\n      <th>10</th>\n      <td>M1M</td>\n      <td>Scarborough</td>\n      <td>Cliffcrest, Cliffside</td>\n      <td>43.757410</td>\n      <td>-79.273304</td>\n    </tr>\n    <tr>\n      <th>11</th>\n      <td>M4Y</td>\n      <td>Downtown Toronto</td>\n      <td>Church and Wellesley</td>\n      <td>43.750072</td>\n      <td>-79.295849</td>\n    </tr>\n    <tr>\n      <th>12</th>\n      <td>M5J</td>\n      <td>Downtown Toronto</td>\n      <td>Toronto Islands, Union Station</td>\n      <td>43.794200</td>\n      <td>-79.262029</td>\n    </tr>\n    <tr>\n      <th>13</th>\n      <td>M3H</td>\n      <td>North York</td>\n      <td>Bathurst Manor, Wilson Heights</td>\n      <td>43.781638</td>\n      <td>-79.304302</td>\n    </tr>\n    <tr>\n      <th>14</th>\n      <td>M6S</td>\n      <td>West Toronto</td>\n      <td>Runnymede, Swansea</td>\n      <td>43.815252</td>\n      <td>-79.284577</td>\n    </tr>\n    <tr>\n      <th>15</th>\n      <td>M5X</td>\n      <td>Downtown Toronto</td>\n      <td>First Canadian Place, Underground city</td>\n      <td>43.799525</td>\n      <td>-79.318389</td>\n    </tr>\n    <tr>\n      <th>16</th>\n      <td>M4V</td>\n      <td>Central Toronto</td>\n      <td>Deer Park, Rathnelly, South Hill</td>\n      <td>43.836125</td>\n      <td>-79.205636</td>\n    </tr>\n    <tr>\n      <th>17</th>\n      <td>M4E</td>\n      <td>East Toronto</td>\n      <td>The Beaches</td>\n      <td>43.803762</td>\n      <td>-79.363452</td>\n    </tr>\n    <tr>\n      <th>18</th>\n      <td>M4J</td>\n      <td>East York</td>\n      <td>East Toronto</td>\n      <td>43.778517</td>\n      <td>-79.346556</td>\n    </tr>\n    <tr>\n      <th>19</th>\n      <td>M6J</td>\n      <td>West Toronto</td>\n      <td>Little Portugal, Trinity</td>\n      <td>43.786947</td>\n      <td>-79.385975</td>\n    </tr>\n    <tr>\n      <th>20</th>\n      <td>M1K</td>\n      <td>Scarborough</td>\n      <td>Ionview, Kennedy Park</td>\n      <td>43.757490</td>\n      <td>-79.374714</td>\n    </tr>\n    <tr>\n      <th>21</th>\n      <td>M6H</td>\n      <td>West Toronto</td>\n      <td>Dovercourt Village</td>\n      <td>43.789053</td>\n      <td>-79.408493</td>\n    </tr>\n    <tr>\n      <th>22</th>\n      <td>M9R</td>\n      <td>Etobicoke</td>\n      <td>Kingsview Village</td>\n      <td>43.770120</td>\n      <td>-79.408493</td>\n    </tr>\n    <tr>\n      <th>23</th>\n      <td>M1P</td>\n      <td>Scarborough</td>\n      <td>Dorset Park, Scarborough Town Centre, Wexford ...</td>\n      <td>43.752758</td>\n      <td>-79.400049</td>\n    </tr>\n    <tr>\n      <th>24</th>\n      <td>M6R</td>\n      <td>West Toronto</td>\n      <td>Parkdale, Roncesvalles</td>\n      <td>43.782736</td>\n      <td>-79.442259</td>\n    </tr>\n    <tr>\n      <th>25</th>\n      <td>M5S</td>\n      <td>Downtown Toronto</td>\n      <td>University of Toronto</td>\n      <td>43.753259</td>\n      <td>-79.329656</td>\n    </tr>\n    <tr>\n      <th>26</th>\n      <td>M1T</td>\n      <td>Scarborough</td>\n      <td>Tam O'Shanter</td>\n      <td>43.745906</td>\n      <td>-79.352188</td>\n    </tr>\n    <tr>\n      <th>27</th>\n      <td>M2J</td>\n      <td>North York</td>\n      <td>Henry Farm</td>\n      <td>43.725900</td>\n      <td>-79.340923</td>\n    </tr>\n    <tr>\n      <th>28</th>\n      <td>M4G</td>\n      <td>East York</td>\n      <td>Leaside</td>\n      <td>43.754328</td>\n      <td>-79.442259</td>\n    </tr>\n    <tr>\n      <th>29</th>\n      <td>M2R</td>\n      <td>North York</td>\n      <td>Willowdale West</td>\n      <td>43.767980</td>\n      <td>-79.487262</td>\n    </tr>\n    <tr>\n      <th>...</th>\n      <td>...</td>\n      <td>...</td>\n      <td>...</td>\n      <td>...</td>\n      <td>...</td>\n    </tr>\n    <tr>\n      <th>47</th>\n      <td>M5V</td>\n      <td>Downtown Toronto</td>\n      <td>CN Tower, King and Spadina, Railway Lands, Sou...</td>\n      <td>43.704324</td>\n      <td>-79.388790</td>\n    </tr>\n    <tr>\n      <th>48</th>\n      <td>M9L</td>\n      <td>North York</td>\n      <td>Humber Summit</td>\n      <td>43.689574</td>\n      <td>-79.383160</td>\n    </tr>\n    <tr>\n      <th>49</th>\n      <td>M5C</td>\n      <td>Downtown Toronto</td>\n      <td>St. James Town</td>\n      <td>43.686412</td>\n      <td>-79.400049</td>\n    </tr>\n    <tr>\n      <th>50</th>\n      <td>M2L</td>\n      <td>North York</td>\n      <td>York Mills</td>\n      <td>43.679563</td>\n      <td>-79.377529</td>\n    </tr>\n    <tr>\n      <th>51</th>\n      <td>M6L</td>\n      <td>North York</td>\n      <td>Downsview</td>\n      <td>43.667967</td>\n      <td>-79.367675</td>\n    </tr>\n    <tr>\n      <th>52</th>\n      <td>M6A</td>\n      <td>North York</td>\n      <td>Lawrence Heights, Lawrence Manor</td>\n      <td>43.665860</td>\n      <td>-79.383160</td>\n    </tr>\n    <tr>\n      <th>53</th>\n      <td>M5P</td>\n      <td>Central Toronto</td>\n      <td>Forest Hill North</td>\n      <td>43.654260</td>\n      <td>-79.360636</td>\n    </tr>\n    <tr>\n      <th>54</th>\n      <td>M3C</td>\n      <td>North York</td>\n      <td>Flemingdon Park</td>\n      <td>43.657162</td>\n      <td>-79.378937</td>\n    </tr>\n    <tr>\n      <th>55</th>\n      <td>M4C</td>\n      <td>East York</td>\n      <td>Woodbine Heights</td>\n      <td>43.651494</td>\n      <td>-79.375418</td>\n    </tr>\n    <tr>\n      <th>56</th>\n      <td>M2M</td>\n      <td>North York</td>\n      <td>Newtonbrook, Willowdale</td>\n      <td>43.644771</td>\n      <td>-79.373306</td>\n    </tr>\n    <tr>\n      <th>57</th>\n      <td>M9N</td>\n      <td>York</td>\n      <td>Weston</td>\n      <td>43.657952</td>\n      <td>-79.387383</td>\n    </tr>\n    <tr>\n      <th>58</th>\n      <td>M5L</td>\n      <td>Downtown Toronto</td>\n      <td>Commerce Court</td>\n      <td>43.650571</td>\n      <td>-79.384568</td>\n    </tr>\n    <tr>\n      <th>59</th>\n      <td>M1R</td>\n      <td>Scarborough</td>\n      <td>Maryvale, Wexford</td>\n      <td>43.640816</td>\n      <td>-79.381752</td>\n    </tr>\n    <tr>\n      <th>60</th>\n      <td>M1N</td>\n      <td>Scarborough</td>\n      <td>Birch Cliff</td>\n      <td>43.647177</td>\n      <td>-79.381576</td>\n    </tr>\n    <tr>\n      <th>61</th>\n      <td>M1E</td>\n      <td>Scarborough</td>\n      <td>Morningside, West Hill</td>\n      <td>43.648198</td>\n      <td>-79.379817</td>\n    </tr>\n    <tr>\n      <th>62</th>\n      <td>M5K</td>\n      <td>Downtown Toronto</td>\n      <td>Design Exchange, Toronto Dominion Centre</td>\n      <td>43.733283</td>\n      <td>-79.419750</td>\n    </tr>\n    <tr>\n      <th>63</th>\n      <td>M3J</td>\n      <td>North York</td>\n      <td>Northwood Park, York University</td>\n      <td>43.711695</td>\n      <td>-79.416936</td>\n    </tr>\n    <tr>\n      <th>64</th>\n      <td>M4N</td>\n      <td>Central Toronto</td>\n      <td>Lawrence Park</td>\n      <td>43.696948</td>\n      <td>-79.411307</td>\n    </tr>\n    <tr>\n      <th>65</th>\n      <td>M6M</td>\n      <td>York</td>\n      <td>Keelesdale, Mount Dennis, Silverthorn</td>\n      <td>43.672710</td>\n      <td>-79.405678</td>\n    </tr>\n    <tr>\n      <th>66</th>\n      <td>M8V</td>\n      <td>Etobicoke</td>\n      <td>New Toronto</td>\n      <td>43.662696</td>\n      <td>-79.400049</td>\n    </tr>\n    <tr>\n      <th>67</th>\n      <td>M1V</td>\n      <td>Scarborough</td>\n      <td>Agincourt North, Milliken</td>\n      <td>43.653206</td>\n      <td>-79.400049</td>\n    </tr>\n    <tr>\n      <th>68</th>\n      <td>M2H</td>\n      <td>North York</td>\n      <td>Hillcrest Village</td>\n      <td>43.628947</td>\n      <td>-79.394420</td>\n    </tr>\n    <tr>\n      <th>69</th>\n      <td>M4H</td>\n      <td>East York</td>\n      <td>Thorncliffe Park</td>\n      <td>43.646435</td>\n      <td>-79.374846</td>\n    </tr>\n    <tr>\n      <th>70</th>\n      <td>M3L</td>\n      <td>North York</td>\n      <td>Downsview West</td>\n      <td>43.648429</td>\n      <td>-79.382280</td>\n    </tr>\n    <tr>\n      <th>71</th>\n      <td>M4L</td>\n      <td>East Toronto</td>\n      <td>India Bazaar</td>\n      <td>43.718518</td>\n      <td>-79.464763</td>\n    </tr>\n    <tr>\n      <th>72</th>\n      <td>M1S</td>\n      <td>Scarborough</td>\n      <td>Agincourt</td>\n      <td>43.709577</td>\n      <td>-79.445073</td>\n    </tr>\n    <tr>\n      <th>73</th>\n      <td>M5R</td>\n      <td>Central Toronto</td>\n      <td>The Annex, Yorkville</td>\n      <td>43.693781</td>\n      <td>-79.428191</td>\n    </tr>\n    <tr>\n      <th>74</th>\n      <td>M1X</td>\n      <td>Scarborough</td>\n      <td>Upper Rouge</td>\n      <td>43.689026</td>\n      <td>-79.453512</td>\n    </tr>\n    <tr>\n      <th>75</th>\n      <td>M1J</td>\n      <td>Scarborough</td>\n      <td>Scarborough Village</td>\n      <td>43.669542</td>\n      <td>-79.422564</td>\n    </tr>\n    <tr>\n      <th>76</th>\n      <td>M4W</td>\n      <td>Downtown Toronto</td>\n      <td>Rosedale</td>\n      <td>43.669005</td>\n      <td>-79.442259</td>\n    </tr>\n  </tbody>\n</table>\n<p>77 rows × 5 columns</p>\n</div>",
            "text/plain": "   Postcode           Borough  \\\n0       M6P      West Toronto   \n1       M2K        North York   \n2       M4X  Downtown Toronto   \n3       M8Y         Etobicoke   \n4       M1B       Scarborough   \n5       M5A  Downtown Toronto   \n6       M9C         Etobicoke   \n7       M3K        North York   \n8       M9B         Etobicoke   \n9       M5E  Downtown Toronto   \n10      M1M       Scarborough   \n11      M4Y  Downtown Toronto   \n12      M5J  Downtown Toronto   \n13      M3H        North York   \n14      M6S      West Toronto   \n15      M5X  Downtown Toronto   \n16      M4V   Central Toronto   \n17      M4E      East Toronto   \n18      M4J         East York   \n19      M6J      West Toronto   \n20      M1K       Scarborough   \n21      M6H      West Toronto   \n22      M9R         Etobicoke   \n23      M1P       Scarborough   \n24      M6R      West Toronto   \n25      M5S  Downtown Toronto   \n26      M1T       Scarborough   \n27      M2J        North York   \n28      M4G         East York   \n29      M2R        North York   \n..      ...               ...   \n47      M5V  Downtown Toronto   \n48      M9L        North York   \n49      M5C  Downtown Toronto   \n50      M2L        North York   \n51      M6L        North York   \n52      M6A        North York   \n53      M5P   Central Toronto   \n54      M3C        North York   \n55      M4C         East York   \n56      M2M        North York   \n57      M9N              York   \n58      M5L  Downtown Toronto   \n59      M1R       Scarborough   \n60      M1N       Scarborough   \n61      M1E       Scarborough   \n62      M5K  Downtown Toronto   \n63      M3J        North York   \n64      M4N   Central Toronto   \n65      M6M              York   \n66      M8V         Etobicoke   \n67      M1V       Scarborough   \n68      M2H        North York   \n69      M4H         East York   \n70      M3L        North York   \n71      M4L      East Toronto   \n72      M1S       Scarborough   \n73      M5R   Central Toronto   \n74      M1X       Scarborough   \n75      M1J       Scarborough   \n76      M4W  Downtown Toronto   \n\n                                        Neighbourhood   Latitude  Longitude  \n0                                           High Park  43.806686 -79.194353  \n1                                     Bayview Village  43.784535 -79.160497  \n2                         Cabbagetown, St. James Town  43.763573 -79.188711  \n3   Humber Bay, Mimico NE, Old Mill South, The Que...  43.770992 -79.216917  \n4                                      Rouge, Malvern  43.773136 -79.239476  \n5                           Harbourfront, Regent Park  43.744734 -79.239476  \n6                                       Markland Wood  43.727929 -79.262029  \n7                                         CFB Toronto  43.711112 -79.284577  \n8        Islington, Princess Gardens, West Deane Park  43.716316 -79.239476  \n9                                         Berczy Park  43.692657 -79.264848  \n10                              Cliffcrest, Cliffside  43.757410 -79.273304  \n11                               Church and Wellesley  43.750072 -79.295849  \n12                     Toronto Islands, Union Station  43.794200 -79.262029  \n13                     Bathurst Manor, Wilson Heights  43.781638 -79.304302  \n14                                 Runnymede, Swansea  43.815252 -79.284577  \n15             First Canadian Place, Underground city  43.799525 -79.318389  \n16                   Deer Park, Rathnelly, South Hill  43.836125 -79.205636  \n17                                        The Beaches  43.803762 -79.363452  \n18                                       East Toronto  43.778517 -79.346556  \n19                           Little Portugal, Trinity  43.786947 -79.385975  \n20                              Ionview, Kennedy Park  43.757490 -79.374714  \n21                                 Dovercourt Village  43.789053 -79.408493  \n22                                  Kingsview Village  43.770120 -79.408493  \n23  Dorset Park, Scarborough Town Centre, Wexford ...  43.752758 -79.400049  \n24                             Parkdale, Roncesvalles  43.782736 -79.442259  \n25                              University of Toronto  43.753259 -79.329656  \n26                                      Tam O'Shanter  43.745906 -79.352188  \n27                                         Henry Farm  43.725900 -79.340923  \n28                                            Leaside  43.754328 -79.442259  \n29                                    Willowdale West  43.767980 -79.487262  \n..                                                ...        ...        ...  \n47  CN Tower, King and Spadina, Railway Lands, Sou...  43.704324 -79.388790  \n48                                      Humber Summit  43.689574 -79.383160  \n49                                     St. James Town  43.686412 -79.400049  \n50                                         York Mills  43.679563 -79.377529  \n51                                          Downsview  43.667967 -79.367675  \n52                   Lawrence Heights, Lawrence Manor  43.665860 -79.383160  \n53                                  Forest Hill North  43.654260 -79.360636  \n54                                    Flemingdon Park  43.657162 -79.378937  \n55                                   Woodbine Heights  43.651494 -79.375418  \n56                            Newtonbrook, Willowdale  43.644771 -79.373306  \n57                                             Weston  43.657952 -79.387383  \n58                                     Commerce Court  43.650571 -79.384568  \n59                                  Maryvale, Wexford  43.640816 -79.381752  \n60                                        Birch Cliff  43.647177 -79.381576  \n61                             Morningside, West Hill  43.648198 -79.379817  \n62           Design Exchange, Toronto Dominion Centre  43.733283 -79.419750  \n63                    Northwood Park, York University  43.711695 -79.416936  \n64                                      Lawrence Park  43.696948 -79.411307  \n65              Keelesdale, Mount Dennis, Silverthorn  43.672710 -79.405678  \n66                                        New Toronto  43.662696 -79.400049  \n67                          Agincourt North, Milliken  43.653206 -79.400049  \n68                                  Hillcrest Village  43.628947 -79.394420  \n69                                   Thorncliffe Park  43.646435 -79.374846  \n70                                     Downsview West  43.648429 -79.382280  \n71                                       India Bazaar  43.718518 -79.464763  \n72                                          Agincourt  43.709577 -79.445073  \n73                               The Annex, Yorkville  43.693781 -79.428191  \n74                                        Upper Rouge  43.689026 -79.453512  \n75                                Scarborough Village  43.669542 -79.422564  \n76                                           Rosedale  43.669005 -79.442259  \n\n[77 rows x 5 columns]"
          },
          "metadata": {}
        }
      ]
    }
  ],
  "metadata": {
    "kernelspec": {
      "name": "python36",
      "display_name": "Python 3.6",
      "language": "python"
    },
    "language_info": {
      "mimetype": "text/x-python",
      "nbconvert_exporter": "python",
      "name": "python",
      "pygments_lexer": "ipython3",
      "version": "3.6.6",
      "file_extension": ".py",
      "codemirror_mode": {
        "version": 3,
        "name": "ipython"
      }
    }
  },
  "nbformat": 4,
  "nbformat_minor": 2
}