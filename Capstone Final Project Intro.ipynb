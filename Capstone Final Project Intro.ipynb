{
  "cells": [
    {
      "metadata": {
        "collapsed": true
      },
      "cell_type": "markdown",
      "source": "# Marketing of materials to Restaurants"
    },
    {
      "metadata": {},
      "cell_type": "markdown",
      "source": "## Coursera Capstone Project"
    },
    {
      "metadata": {},
      "cell_type": "markdown",
      "source": "**********************************"
    },
    {
      "metadata": {},
      "cell_type": "markdown",
      "source": "## Problem Description"
    },
    {
      "metadata": {},
      "cell_type": "markdown",
      "source": "### An investor is planning to invest in a marketing concern of vegitables, friuts, drinks and other materials. He is about to study the most suitable location to start in boroughs of Toronto (Scarborough) to find the most profitable location. By finding it he will be able to provide necessary materials in that place more efficiently to the restaurants."
    },
    {
      "metadata": {},
      "cell_type": "markdown",
      "source": "## Data Needed"
    },
    {
      "metadata": {},
      "cell_type": "markdown",
      "source": "### First and foremost, the data needed is about the areas by foursquare API, and then the data about restaurants in that particular area which can be collected online"
    },
    {
      "metadata": {},
      "cell_type": "markdown",
      "source": "**********************************"
    },
    {
      "metadata": {},
      "cell_type": "markdown",
      "source": "## FourSquare API"
    },
    {
      "metadata": {},
      "cell_type": "markdown",
      "source": "### https://foursquare.com/"
    },
    {
      "metadata": {
        "trusted": true
      },
      "cell_type": "code",
      "source": "",
      "execution_count": null,
      "outputs": []
    }
  ],
  "metadata": {
    "kernelspec": {
      "name": "python36",
      "display_name": "Python 3.6",
      "language": "python"
    },
    "language_info": {
      "mimetype": "text/x-python",
      "nbconvert_exporter": "python",
      "name": "python",
      "pygments_lexer": "ipython3",
      "version": "3.6.6",
      "file_extension": ".py",
      "codemirror_mode": {
        "version": 3,
        "name": "ipython"
      }
    }
  },
  "nbformat": 4,
  "nbformat_minor": 2
}