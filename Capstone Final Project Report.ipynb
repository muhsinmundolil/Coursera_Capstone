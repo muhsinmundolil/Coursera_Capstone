{
  "cells": [
    {
      "metadata": {
        "collapsed": true
      },
      "cell_type": "markdown",
      "source": "# Marketing of materials to Restaurants\n## Coursera Capstone Project"
    },
    {
      "metadata": {},
      "cell_type": "markdown",
      "source": "**********************************"
    },
    {
      "metadata": {},
      "cell_type": "markdown",
      "source": "## Problem Description"
    },
    {
      "metadata": {},
      "cell_type": "markdown",
      "source": "### An investor is planning to invest in a marketing concern of vegitables, friuts, drinks and other materials. He is about to study the most suitable location to start in boroughs of Toronto (Scarborough) to find the most profitable location. By finding it he will be able to provide necessary materials in that place more efficiently to the restaurants."
    },
    {
      "metadata": {},
      "cell_type": "markdown",
      "source": "## Data Needed"
    },
    {
      "metadata": {},
      "cell_type": "markdown",
      "source": "### First and foremost, the data needed is about the areas by foursquare API, and then the data about restaurants in that particular area which can be collected online"
    },
    {
      "metadata": {},
      "cell_type": "markdown",
      "source": "**********************************"
    },
    {
      "metadata": {},
      "cell_type": "markdown",
      "source": "## Data Processing"
    },
    {
      "metadata": {},
      "cell_type": "markdown",
      "source": "   ## Identifying Neighborhoods\n### Postal Codes of different regions inside Scarborough can be used to find the list of neighborhoods. It can be found from https://en.wikipedia.org/wiki/List_of_postal_codes_of_Canada:_M and then process the table from the site."
    },
    {
      "metadata": {},
      "cell_type": "markdown",
      "source": "  ## Connecting to Foursquare \n### ... Retrieving Locational Data\n\n### After finding the list of neighborhoods, we then connect to the Foursquare API to gather information about venues inside each and every neighborhood. For each neighborhood, we have chosen the radius to be 1000 meter. It means that we have asked Foursquare to find venues that are at most 1000 meter far from the center of the neighborhood."
    },
    {
      "metadata": {},
      "cell_type": "markdown",
      "source": "## Processing the Retrieved Data\n### When the data is completely gathered, we will perform processing on that raw data to find our desirable features for each venue. Our main feature is the category of that venue. After this stage, the column \"Venue's Category\" wil be One-hot encoded and different venues will have different feature-columns. After On-hot encoding we will integrate all restaurant columns to one column \"Total Restaurants\" and all food joint columns to \"Total Joints\" column. We assumed that different resaturants use the Same raw groceries. This assumption is made for simplicity and due to not having a very detailed dataset about different venues."
    },
    {
      "metadata": {},
      "cell_type": "markdown",
      "source": "## Applying K-Means Clustering\n### Here we cluster neighborhoods via K-means clustering method. 5 clusters is enough and can cover the complexity of our problem. After clustering we will update our dataset and create a column representing the group for each neighborhood."
    },
    {
      "metadata": {},
      "cell_type": "markdown",
      "source": "*********"
    },
    {
      "metadata": {},
      "cell_type": "markdown",
      "source": "## Decision Making\n### Now, we focus on the centers of clusters and compare them for their \"Total Restaurants\" and their \"Total Joints\". The group which its center has the highest \"Total Sum\" will be our best recommendation to the contractor. {Note: Total Sum = Total Restaurants + Total Joints + Other Venues.} This algorithm although is pretty straightforward yet is strongly powerful."
    },
    {
      "metadata": {},
      "cell_type": "markdown",
      "source": "## Results:\n### The best recommended neighborhood will be: {'Neighborhood': 'Agincourt'}"
    },
    {
      "metadata": {},
      "cell_type": "markdown",
      "source": "*********"
    },
    {
      "metadata": {
        "trusted": true
      },
      "cell_type": "code",
      "source": "",
      "execution_count": null,
      "outputs": []
    }
  ],
  "metadata": {
    "kernelspec": {
      "name": "python36",
      "display_name": "Python 3.6",
      "language": "python"
    },
    "language_info": {
      "mimetype": "text/x-python",
      "nbconvert_exporter": "python",
      "name": "python",
      "pygments_lexer": "ipython3",
      "version": "3.6.6",
      "file_extension": ".py",
      "codemirror_mode": {
        "version": 3,
        "name": "ipython"
      }
    }
  },
  "nbformat": 4,
  "nbformat_minor": 2
}